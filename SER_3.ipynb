{
  "cells": [
    {
      "cell_type": "markdown",
      "source": [
        "# Utils"
      ],
      "metadata": {
        "id": "aE0oiCiqaqX4"
      }
    },
    {
      "cell_type": "code",
      "source": [
        "!pip install scikit-learn==0.20.3 scipy==1.4.1 xgboost==0.82"
      ],
      "metadata": {
        "id": "2O4VFP-3a3cc",
        "colab": {
          "base_uri": "https://localhost:8080/"
        },
        "outputId": "a8d56b2f-dfe3-4d8d-d486-117ec0b48a31"
      },
      "execution_count": null,
      "outputs": [
        {
          "output_type": "stream",
          "name": "stdout",
          "text": [
            "Collecting scikit-learn==0.20.3\n",
            "  Downloading scikit_learn-0.20.3-cp37-cp37m-manylinux1_x86_64.whl (5.4 MB)\n",
            "\u001b[K     |████████████████████████████████| 5.4 MB 6.6 MB/s \n",
            "\u001b[?25hRequirement already satisfied: scipy==1.4.1 in /usr/local/lib/python3.7/dist-packages (1.4.1)\n",
            "Collecting xgboost==0.82\n",
            "  Downloading xgboost-0.82-py2.py3-none-manylinux1_x86_64.whl (114.0 MB)\n",
            "\u001b[K     |████████████████████████████████| 114.0 MB 21 kB/s \n",
            "\u001b[?25hRequirement already satisfied: numpy>=1.8.2 in /usr/local/lib/python3.7/dist-packages (from scikit-learn==0.20.3) (1.21.6)\n",
            "Installing collected packages: xgboost, scikit-learn\n",
            "  Attempting uninstall: xgboost\n",
            "    Found existing installation: xgboost 0.90\n",
            "    Uninstalling xgboost-0.90:\n",
            "      Successfully uninstalled xgboost-0.90\n",
            "  Attempting uninstall: scikit-learn\n",
            "    Found existing installation: scikit-learn 1.0.2\n",
            "    Uninstalling scikit-learn-1.0.2:\n",
            "      Successfully uninstalled scikit-learn-1.0.2\n",
            "\u001b[31mERROR: pip's dependency resolver does not currently take into account all the packages that are installed. This behaviour is the source of the following dependency conflicts.\n",
            "yellowbrick 1.4 requires scikit-learn>=1.0.0, but you have scikit-learn 0.20.3 which is incompatible.\n",
            "imbalanced-learn 0.8.1 requires scikit-learn>=0.24, but you have scikit-learn 0.20.3 which is incompatible.\u001b[0m\n",
            "Successfully installed scikit-learn-0.20.3 xgboost-0.82\n"
          ]
        }
      ]
    },
    {
      "cell_type": "code",
      "source": [
        "from google.colab import drive\n",
        "import re\n",
        "import os\n",
        "import pandas as pd\n",
        "import librosa\n",
        "import os\n",
        "import soundfile as sf\n",
        "import numpy as np\n",
        "import matplotlib.pyplot as plt\n",
        "import matplotlib.style as ms\n",
        "from tqdm import tqdm\n",
        "import pickle\n",
        "\n",
        "import IPython.display\n",
        "import librosa.display\n",
        "ms.use('seaborn-muted')\n",
        "\n",
        "import math\n",
        "import random\n",
        "\n",
        "import xgboost as xgb\n",
        "\n",
        "from sklearn.svm import SVC, LinearSVC\n",
        "from sklearn.naive_bayes import MultinomialNB\n",
        "from sklearn.linear_model import LogisticRegression\n",
        "from sklearn.ensemble import RandomForestClassifier\n",
        "from sklearn.model_selection import train_test_split\n",
        "from sklearn.neural_network import MLPClassifier\n",
        "from sklearn.metrics import confusion_matrix, f1_score, accuracy_score, precision_score, recall_score\n",
        "from sklearn.preprocessing import MinMaxScaler, OneHotEncoder\n",
        "from sklearn.feature_selection import SelectFromModel\n",
        "from sklearn.utils.class_weight import compute_class_weight\n",
        "import itertools\n"
      ],
      "metadata": {
        "id": "SSPbirFAasmP",
        "colab": {
          "base_uri": "https://localhost:8080/"
        },
        "outputId": "38b170b6-0224-4dbe-8062-a5375cde9dd4"
      },
      "execution_count": null,
      "outputs": [
        {
          "output_type": "stream",
          "name": "stderr",
          "text": [
            "/usr/local/lib/python3.7/dist-packages/sklearn/linear_model/least_angle.py:35: DeprecationWarning: `np.float` is a deprecated alias for the builtin `float`. To silence this warning, use `float` by itself. Doing this will not modify any behavior and is safe. If you specifically wanted the numpy scalar type, use `np.float64` here.\n",
            "Deprecated in NumPy 1.20; for more details and guidance: https://numpy.org/devdocs/release/1.20.0-notes.html#deprecations\n",
            "  eps=np.finfo(np.float).eps,\n",
            "/usr/local/lib/python3.7/dist-packages/sklearn/linear_model/least_angle.py:597: DeprecationWarning: `np.float` is a deprecated alias for the builtin `float`. To silence this warning, use `float` by itself. Doing this will not modify any behavior and is safe. If you specifically wanted the numpy scalar type, use `np.float64` here.\n",
            "Deprecated in NumPy 1.20; for more details and guidance: https://numpy.org/devdocs/release/1.20.0-notes.html#deprecations\n",
            "  eps=np.finfo(np.float).eps, copy_X=True, fit_path=True,\n",
            "/usr/local/lib/python3.7/dist-packages/sklearn/linear_model/least_angle.py:836: DeprecationWarning: `np.float` is a deprecated alias for the builtin `float`. To silence this warning, use `float` by itself. Doing this will not modify any behavior and is safe. If you specifically wanted the numpy scalar type, use `np.float64` here.\n",
            "Deprecated in NumPy 1.20; for more details and guidance: https://numpy.org/devdocs/release/1.20.0-notes.html#deprecations\n",
            "  eps=np.finfo(np.float).eps, copy_X=True, fit_path=True,\n",
            "/usr/local/lib/python3.7/dist-packages/sklearn/linear_model/least_angle.py:862: DeprecationWarning: `np.float` is a deprecated alias for the builtin `float`. To silence this warning, use `float` by itself. Doing this will not modify any behavior and is safe. If you specifically wanted the numpy scalar type, use `np.float64` here.\n",
            "Deprecated in NumPy 1.20; for more details and guidance: https://numpy.org/devdocs/release/1.20.0-notes.html#deprecations\n",
            "  eps=np.finfo(np.float).eps, positive=False):\n",
            "/usr/local/lib/python3.7/dist-packages/sklearn/linear_model/least_angle.py:1097: DeprecationWarning: `np.float` is a deprecated alias for the builtin `float`. To silence this warning, use `float` by itself. Doing this will not modify any behavior and is safe. If you specifically wanted the numpy scalar type, use `np.float64` here.\n",
            "Deprecated in NumPy 1.20; for more details and guidance: https://numpy.org/devdocs/release/1.20.0-notes.html#deprecations\n",
            "  max_n_alphas=1000, n_jobs=None, eps=np.finfo(np.float).eps,\n",
            "/usr/local/lib/python3.7/dist-packages/sklearn/linear_model/least_angle.py:1344: DeprecationWarning: `np.float` is a deprecated alias for the builtin `float`. To silence this warning, use `float` by itself. Doing this will not modify any behavior and is safe. If you specifically wanted the numpy scalar type, use `np.float64` here.\n",
            "Deprecated in NumPy 1.20; for more details and guidance: https://numpy.org/devdocs/release/1.20.0-notes.html#deprecations\n",
            "  max_n_alphas=1000, n_jobs=None, eps=np.finfo(np.float).eps,\n",
            "/usr/local/lib/python3.7/dist-packages/sklearn/linear_model/least_angle.py:1480: DeprecationWarning: `np.float` is a deprecated alias for the builtin `float`. To silence this warning, use `float` by itself. Doing this will not modify any behavior and is safe. If you specifically wanted the numpy scalar type, use `np.float64` here.\n",
            "Deprecated in NumPy 1.20; for more details and guidance: https://numpy.org/devdocs/release/1.20.0-notes.html#deprecations\n",
            "  eps=np.finfo(np.float).eps, copy_X=True, positive=False):\n",
            "/usr/local/lib/python3.7/dist-packages/sklearn/linear_model/randomized_l1.py:152: DeprecationWarning: `np.float` is a deprecated alias for the builtin `float`. To silence this warning, use `float` by itself. Doing this will not modify any behavior and is safe. If you specifically wanted the numpy scalar type, use `np.float64` here.\n",
            "Deprecated in NumPy 1.20; for more details and guidance: https://numpy.org/devdocs/release/1.20.0-notes.html#deprecations\n",
            "  precompute=False, eps=np.finfo(np.float).eps,\n",
            "/usr/local/lib/python3.7/dist-packages/sklearn/linear_model/randomized_l1.py:320: DeprecationWarning: `np.float` is a deprecated alias for the builtin `float`. To silence this warning, use `float` by itself. Doing this will not modify any behavior and is safe. If you specifically wanted the numpy scalar type, use `np.float64` here.\n",
            "Deprecated in NumPy 1.20; for more details and guidance: https://numpy.org/devdocs/release/1.20.0-notes.html#deprecations\n",
            "  eps=np.finfo(np.float).eps, random_state=None,\n",
            "/usr/local/lib/python3.7/dist-packages/sklearn/linear_model/randomized_l1.py:580: DeprecationWarning: `np.float` is a deprecated alias for the builtin `float`. To silence this warning, use `float` by itself. Doing this will not modify any behavior and is safe. If you specifically wanted the numpy scalar type, use `np.float64` here.\n",
            "Deprecated in NumPy 1.20; for more details and guidance: https://numpy.org/devdocs/release/1.20.0-notes.html#deprecations\n",
            "  eps=4 * np.finfo(np.float).eps, n_jobs=None,\n",
            "/usr/local/lib/python3.7/dist-packages/sklearn/decomposition/online_lda.py:31: DeprecationWarning: `np.float` is a deprecated alias for the builtin `float`. To silence this warning, use `float` by itself. Doing this will not modify any behavior and is safe. If you specifically wanted the numpy scalar type, use `np.float64` here.\n",
            "Deprecated in NumPy 1.20; for more details and guidance: https://numpy.org/devdocs/release/1.20.0-notes.html#deprecations\n",
            "  EPS = np.finfo(np.float).eps\n",
            "/usr/local/lib/python3.7/dist-packages/sklearn/feature_extraction/image.py:167: DeprecationWarning: `np.int` is a deprecated alias for the builtin `int`. To silence this warning, use `int` by itself. Doing this will not modify any behavior and is safe. When replacing `np.int`, you may wish to use e.g. `np.int64` or `np.int32` to specify the precision. If you wish to review your current use, check the release note link for additional information.\n",
            "Deprecated in NumPy 1.20; for more details and guidance: https://numpy.org/devdocs/release/1.20.0-notes.html#deprecations\n",
            "  dtype=np.int):\n",
            "/usr/local/lib/python3.7/dist-packages/sklearn/ensemble/gradient_boosting.py:34: DeprecationWarning: `np.bool` is a deprecated alias for the builtin `bool`. To silence this warning, use `bool` by itself. Doing this will not modify any behavior and is safe. If you specifically wanted the numpy scalar type, use `np.bool_` here.\n",
            "Deprecated in NumPy 1.20; for more details and guidance: https://numpy.org/devdocs/release/1.20.0-notes.html#deprecations\n",
            "  from ._gradient_boosting import predict_stages\n",
            "/usr/local/lib/python3.7/dist-packages/sklearn/ensemble/gradient_boosting.py:34: DeprecationWarning: `np.bool` is a deprecated alias for the builtin `bool`. To silence this warning, use `bool` by itself. Doing this will not modify any behavior and is safe. If you specifically wanted the numpy scalar type, use `np.bool_` here.\n",
            "Deprecated in NumPy 1.20; for more details and guidance: https://numpy.org/devdocs/release/1.20.0-notes.html#deprecations\n",
            "  from ._gradient_boosting import predict_stages\n"
          ]
        }
      ]
    },
    {
      "cell_type": "code",
      "source": [
        "import warnings\n",
        "warnings.filterwarnings(\"ignore\", category=DeprecationWarning)"
      ],
      "metadata": {
        "id": "5SQQCVA26SfT"
      },
      "execution_count": null,
      "outputs": []
    },
    {
      "cell_type": "markdown",
      "source": [
        "# Configs"
      ],
      "metadata": {
        "id": "C3vJtlXJmBmw"
      }
    },
    {
      "cell_type": "code",
      "source": [
        "model_config = {\n",
        "    'gpu': 0,\n",
        "    'bidirectional': False,\n",
        "    'input_dim': 8,\n",
        "    'hidden_dim': 50,\n",
        "    'output_dim': 4,  # number of classes\n",
        "    'dropout': 0.2,\n",
        "    'learning_rate': 0.001,\n",
        "    'batch_size': 1567,  # carefully chosen\n",
        "    'n_epochs': 55000,\n",
        "    'n_layers': 2,\n",
        "    'model_code': 'basic_lstm'\n",
        "}\n"
      ],
      "metadata": {
        "id": "d7yFAv4lmEq1"
      },
      "execution_count": null,
      "outputs": []
    },
    {
      "cell_type": "markdown",
      "source": [
        "## ENV Variables"
      ],
      "metadata": {
        "id": "j7wthKoGcMt2"
      }
    },
    {
      "cell_type": "code",
      "source": [
        "IEMOCAP_PATH = '/content/gdrive/MyDrive/Major Project Sem 7 8/IEMOCAP_full_release_withoutVideos/IEMOCAP_full_release/Session'\n",
        "DATA_PREPROCESSED_PATH = '/content/multimodal-speech-emotion-recognition/data/pre-processed/'"
      ],
      "metadata": {
        "id": "MBElFpuOcJi6"
      },
      "execution_count": null,
      "outputs": []
    },
    {
      "cell_type": "markdown",
      "source": [
        "# Mounting Google Drive"
      ],
      "metadata": {
        "id": "04R1F2_hbMJY"
      }
    },
    {
      "cell_type": "code",
      "execution_count": null,
      "metadata": {
        "colab": {
          "base_uri": "https://localhost:8080/"
        },
        "id": "E5P9-WVvrLzJ",
        "outputId": "61883c59-1c37-4936-85ae-de0ab5f43f1e"
      },
      "outputs": [
        {
          "output_type": "stream",
          "name": "stdout",
          "text": [
            "Mounted at /content/gdrive\n"
          ]
        }
      ],
      "source": [
        "drive.mount('/content/gdrive')"
      ]
    },
    {
      "cell_type": "markdown",
      "source": [
        "# Creating necessary directories"
      ],
      "metadata": {
        "id": "Dkd4eov8bTfT"
      }
    },
    {
      "cell_type": "code",
      "source": [
        "!mkdir /content/multimodal-speech-emotion-recognition\n",
        "!mkdir /content/multimodal-speech-emotion-recognition/data\n",
        "!mkdir /content/multimodal-speech-emotion-recognition/data/pre-processed\n",
        "!mkdir /content/multimodal-speech-emotion-recognition/data/s2e\n",
        "!mkdir /content/multimodal-speech-emotion-recognition/data/t2e\n",
        "!mkdir /content/multimodal-speech-emotion-recognition/runs\n",
        "!mkdir /content/multimodal-speech-emotion-recognition/results\n",
        "!mkdir /content/multimodal-speech-emotion-recognition/pred_probas"
      ],
      "metadata": {
        "id": "UF4ByB5obX5z"
      },
      "execution_count": null,
      "outputs": []
    },
    {
      "cell_type": "code",
      "execution_count": null,
      "metadata": {
        "id": "NkLKgOSblSe_"
      },
      "outputs": [],
      "source": [
        "# ! git clone https://github.com/Demfier/multimodal-speech-emotion-recognition.git"
      ]
    },
    {
      "cell_type": "code",
      "execution_count": null,
      "metadata": {
        "colab": {
          "base_uri": "https://localhost:8080/"
        },
        "id": "txGiDwWqlW-9",
        "outputId": "da1eb826-0718-48ac-ade5-e540207ec0d4"
      },
      "outputs": [
        {
          "output_type": "stream",
          "name": "stdout",
          "text": [
            "/content/multimodal-speech-emotion-recognition\n"
          ]
        }
      ],
      "source": [
        "%cd /content/multimodal-speech-emotion-recognition"
      ]
    },
    {
      "cell_type": "code",
      "execution_count": null,
      "metadata": {
        "id": "ADbtVAbEll3K"
      },
      "outputs": [],
      "source": [
        "# !pip install -r requirements.txt"
      ]
    },
    {
      "cell_type": "code",
      "execution_count": null,
      "metadata": {
        "colab": {
          "base_uri": "https://localhost:8080/"
        },
        "id": "Po6pIASIrc2D",
        "outputId": "52d493c7-cf08-4f36-d741-37994bcb581b"
      },
      "outputs": [
        {
          "output_type": "stream",
          "name": "stdout",
          "text": [
            "Documentation  README.txt~  Session2  Session4\n",
            "README.txt     Session1     Session3  Session5\n"
          ]
        }
      ],
      "source": [
        "!ls \"/content/gdrive/MyDrive/Major Project Sem 7 8/IEMOCAP_full_release_withoutVideos/IEMOCAP_full_release\""
      ]
    },
    {
      "cell_type": "code",
      "execution_count": null,
      "metadata": {
        "id": "WO9m-DcOv0lX"
      },
      "outputs": [],
      "source": [
        "# !pip install numpy --upgrade"
      ]
    },
    {
      "cell_type": "markdown",
      "source": [
        "# Extract Emotion Labels from the IEMOCAP dataset"
      ],
      "metadata": {
        "id": "JfT3pIzKbuHz"
      }
    },
    {
      "cell_type": "code",
      "source": [
        "# # Extract labels from the evaluation files\n",
        "\n",
        "# first testing with one file\n",
        "file_path = '{}1/dialog/EmoEvaluation/Ses01F_impro01.txt'.format(IEMOCAP_PATH)\n",
        "\n",
        "\n",
        "\n",
        "useful_regex = re.compile(r'\\[.+\\]\\n', re.IGNORECASE)\n",
        "\n",
        "\n",
        "\n",
        "\n",
        "with open(file_path) as f:\n",
        "    file_content = f.read()\n",
        "\n",
        "info_lines = re.findall(useful_regex, file_content)\n",
        "\n",
        "\n",
        "\n",
        "\n",
        "for l in info_lines[1:10]:\n",
        "    print(l.strip().split('\\t'))\n",
        "\n",
        "\n",
        "# Compile all the information in a single file\n",
        "\n",
        "info_line = re.compile(r'\\[.+\\]\\n', re.IGNORECASE)\n",
        "\n",
        "start_times, end_times, wav_file_names, emotions, vals, acts, doms = [], [], [], [], [], [], []\n",
        "\n",
        "for sess in range(1, 6):\n",
        "    emo_evaluation_dir = '{}{}/dialog/EmoEvaluation/'.format(IEMOCAP_PATH,sess)\n",
        "    evaluation_files = [l for l in os.listdir(emo_evaluation_dir) if 'Ses' in l]\n",
        "    for file in evaluation_files:\n",
        "        with open(emo_evaluation_dir + file) as f:\n",
        "            content = f.read()\n",
        "        info_lines = re.findall(info_line, content)\n",
        "        for line in info_lines[1:]:  # the first line is a header\n",
        "            start_end_time, wav_file_name, emotion, val_act_dom = line.strip().split('\\t')\n",
        "            start_time, end_time = start_end_time[1:-1].split('-')\n",
        "            val, act, dom = val_act_dom[1:-1].split(',')\n",
        "            val, act, dom = float(val), float(act), float(dom)\n",
        "            start_time, end_time = float(start_time), float(end_time)\n",
        "            start_times.append(start_time)\n",
        "            end_times.append(end_time)\n",
        "            wav_file_names.append(wav_file_name)\n",
        "            if(emotion == 'fru'):\n",
        "              emotions.append('ang')\n",
        "            else:\n",
        "              emotions.append(emotion)\n",
        "            vals.append(val)\n",
        "            acts.append(act)\n",
        "            doms.append(dom)\n",
        "\n",
        "\n",
        "df_iemocap = pd.DataFrame(columns=['start_time', 'end_time', 'wav_file', 'emotion', 'val', 'act', 'dom'])\n",
        "\n",
        "df_iemocap['start_time'] = start_times\n",
        "df_iemocap['end_time'] = end_times\n",
        "df_iemocap['wav_file'] = wav_file_names\n",
        "df_iemocap['emotion'] = emotions\n",
        "df_iemocap['val'] = vals\n",
        "df_iemocap['act'] = acts\n",
        "df_iemocap['dom'] = doms\n",
        "\n",
        "df_iemocap.tail()\n",
        "\n",
        "\n",
        "df_iemocap.to_csv('{}df_iemocap.csv'.format(DATA_PREPROCESSED_PATH), index=False)\n"
      ],
      "metadata": {
        "colab": {
          "base_uri": "https://localhost:8080/"
        },
        "id": "l9hSuzT6byZ4",
        "outputId": "d15f3224-0f74-46d8-9401-5c72abdfaf13"
      },
      "execution_count": null,
      "outputs": [
        {
          "output_type": "stream",
          "name": "stdout",
          "text": [
            "['[6.2901 - 8.2357]', 'Ses01F_impro01_F000', 'neu', '[2.5000, 2.5000, 2.5000]']\n",
            "['[10.0100 - 11.3925]', 'Ses01F_impro01_F001', 'neu', '[2.5000, 2.5000, 2.5000]']\n",
            "['[14.8872 - 18.0175]', 'Ses01F_impro01_F002', 'neu', '[2.5000, 2.5000, 2.5000]']\n",
            "['[19.2900 - 20.7875]', 'Ses01F_impro01_F003', 'xxx', '[2.5000, 3.0000, 3.0000]']\n",
            "['[21.3257 - 24.7400]', 'Ses01F_impro01_F004', 'xxx', '[2.5000, 3.0000, 2.5000]']\n",
            "['[27.4600 - 31.4900]', 'Ses01F_impro01_F005', 'neu', '[2.5000, 3.5000, 2.0000]']\n",
            "['[38.9650 - 43.5900]', 'Ses01F_impro01_F006', 'fru', '[2.0000, 3.5000, 3.5000]']\n",
            "['[46.5800 - 52.1900]', 'Ses01F_impro01_F007', 'fru', '[2.5000, 3.5000, 3.5000]']\n",
            "['[56.1600 - 58.8225]', 'Ses01F_impro01_F008', 'fru', '[2.0000, 3.5000, 3.5000]']\n"
          ]
        }
      ]
    },
    {
      "cell_type": "markdown",
      "source": [
        "# Building Audio Vectors of all the files in the dataset"
      ],
      "metadata": {
        "id": "oDncXtdMcy8y"
      }
    },
    {
      "cell_type": "code",
      "source": [
        "# Build Audio Vectors\n",
        "# Now that the labels have been extracted, we'll use the compiled csv (df_iemocap.csv) to split the original wav files into multiple frames\n",
        "\n",
        "\n",
        "# Trying for one file first\n",
        "\n",
        "file_path = '{}1/dialog/wav/Ses01F_impro01.wav'.format(IEMOCAP_PATH)\n",
        "\n",
        "y, sr = librosa.load(file_path, sr=44100)\n",
        "y, sr\n",
        "\n",
        "\n",
        "#Looping through all the files\n",
        "\n",
        "\n",
        "import pandas as pd\n",
        "import math\n",
        "\n",
        "labels_df = pd.read_csv('{}df_iemocap.csv'.format(DATA_PREPROCESSED_PATH))\n",
        "\n",
        "sr = 44100\n",
        "audio_vectors = {}\n",
        "for sess in range(1,4):  # using one session due to memory constraint, can replace [5] with range(1, 6)\n",
        "    wav_file_path = '{}{}/dialog/wav/'.format(IEMOCAP_PATH, sess)\n",
        "    orig_wav_files = os.listdir(wav_file_path)\n",
        "    for orig_wav_file in tqdm(orig_wav_files):\n",
        "        try:\n",
        "            orig_wav_vector, _sr = librosa.load(wav_file_path + orig_wav_file, sr=sr)\n",
        "            orig_wav_file, file_format = orig_wav_file.split('.')\n",
        "            for index, row in labels_df[labels_df['wav_file'].str.contains(orig_wav_file)].iterrows():\n",
        "                start_time, end_time, truncated_wav_file_name, emotion, val, act, dom = row['start_time'], row['end_time'], row['wav_file'], row['emotion'], row['val'], row['act'], row['dom']\n",
        "                start_frame = math.floor(start_time * sr)\n",
        "                end_frame = math.floor(end_time * sr)\n",
        "                truncated_wav_vector = orig_wav_vector[start_frame:end_frame + 1]\n",
        "                audio_vectors[truncated_wav_file_name] = truncated_wav_vector\n",
        "        except:\n",
        "            print('An exception occured for {}'.format(orig_wav_file))\n",
        "    with open('{}audio_vectors_{}.pkl'.format(DATA_PREPROCESSED_PATH,sess), 'wb') as f:\n",
        "        pickle.dump(audio_vectors, f)\n"
      ],
      "metadata": {
        "colab": {
          "base_uri": "https://localhost:8080/"
        },
        "id": "Svjpxe0Mc5Eq",
        "outputId": "810fc88c-4422-42f6-8cc3-81eaccef296a"
      },
      "execution_count": null,
      "outputs": [
        {
          "output_type": "stream",
          "name": "stderr",
          "text": [
            "100%|██████████| 28/28 [06:21<00:00, 13.63s/it]\n",
            "100%|██████████| 30/30 [05:51<00:00, 11.73s/it]\n",
            "100%|██████████| 32/32 [06:32<00:00, 12.28s/it]\n"
          ]
        }
      ]
    },
    {
      "cell_type": "markdown",
      "source": [
        "# Extracting Audio Features from Audio Signals"
      ],
      "metadata": {
        "id": "pcOsPSLIjlBM"
      }
    },
    {
      "cell_type": "code",
      "source": [
        "\n",
        "labels_df_path = '{}df_iemocap.csv'.format(DATA_PREPROCESSED_PATH)\n",
        "audio_vectors_path = '{}audio_vectors_1.pkl'.format(DATA_PREPROCESSED_PATH)\n",
        "\n",
        "\n",
        "\n",
        "labels_df = pd.read_csv(labels_df_path)\n",
        "audio_vectors = pickle.load(open(audio_vectors_path, 'rb'))\n",
        "\n",
        "\n",
        "\n",
        "random_file_name = list(audio_vectors.keys())[random.choice(range(len(audio_vectors.keys())))]\n",
        "y = audio_vectors[random_file_name]\n",
        "sr = 44100\n",
        "\n",
        "\n",
        "\n",
        "plt.figure(figsize=(15,2))\n",
        "librosa.display.waveplot(y, sr=sr, max_sr=1000, alpha=0.25, color='r')\n",
        "\n",
        "\n",
        "\n",
        "print('Signal mean = {:.5f}'.format(np.mean(abs(y))))\n",
        "print('Signal std dev = {:.5f}'.format(np.std(y)))\n",
        "\n",
        "\n",
        "\n",
        "rmse = librosa.feature.rms(y + 0.0001)[0]\n",
        "plt.figure(figsize=(15,2))\n",
        "plt.plot(rmse)\n",
        "plt.ylabel('RMSE')\n",
        "print('RMSE mean = {:.5f}'.format(np.mean(rmse)))\n",
        "print('RMSE std dev = {:.5f}'.format(np.std(rmse)))\n",
        "\n",
        "\n",
        "\n",
        "from IPython.display import Audio\n",
        "Audio(y, rate=44100)\n",
        "\n",
        "\n",
        "\n",
        "silence = 0\n",
        "for e in rmse:\n",
        "    if e <= 0.4 * np.mean(rmse):\n",
        "        silence += 1\n",
        "print(silence/float(len(rmse)))\n",
        "\n",
        "\n",
        "\n",
        "y_harmonic, y_percussive = librosa.effects.hpss(y)\n",
        "np.mean(y_harmonic)\n",
        "\n",
        "\n",
        "autocorr = librosa.core.autocorrelate(y)\n",
        "np.max(autocorr)\n",
        "\n",
        "\n",
        "cl = 0.45 * np.mean(abs(y))\n",
        "center_clipped = []\n",
        "for s in y:\n",
        "    if s >= cl:\n",
        "        center_clipped.append(s - cl)\n",
        "    elif s <= -cl:\n",
        "        center_clipped.append(s + cl)\n",
        "    elif np.abs(s) < cl:\n",
        "        center_clipped.append(0)\n",
        "new_autocorr = librosa.core.autocorrelate(np.array(center_clipped))\n",
        "np.max(new_autocorr)\n",
        "\n",
        "\n",
        "columns = ['wav_file', 'label', 'sig_mean', 'sig_std', 'rmse_mean', 'rmse_std', 'silence', 'harmonic', 'auto_corr_max', 'auto_corr_std']\n",
        "df_features = pd.DataFrame(columns=columns)\n",
        "\n",
        "\n",
        "# The following blocks build feature vectors for all the files\n",
        "\n",
        "emotion_dict = {'ang': 0,\n",
        "                'hap': 1,\n",
        "                'exc': 2,\n",
        "                'sad': 3,\n",
        "                'fru': 4,\n",
        "                'fea': 5,\n",
        "                'sur': 6,\n",
        "                'neu': 7,\n",
        "                'xxx': 8,\n",
        "                'oth': 8}\n",
        "\n",
        "labels_path = '{}df_iemocap.csv'.format(DATA_PREPROCESSED_PATH)\n",
        "audio_vectors_path = '{}audio_vectors_'.format(DATA_PREPROCESSED_PATH)\n",
        "\n",
        "\n",
        "labels_df = pd.read_csv(labels_path)\n",
        "\n",
        "for sess in range(1,4): #for sess in (range(1, 6)):\n",
        "        audio_vectors = pickle.load(open('{}{}.pkl'.format(audio_vectors_path, sess), 'rb'))\n",
        "        for index, row in tqdm(labels_df[labels_df['wav_file'].str.contains('Ses0{}'.format(sess))].iterrows()):\n",
        "            try:\n",
        "                wav_file_name = row['wav_file']\n",
        "                label = emotion_dict[row['emotion']]\n",
        "                if(label in [2,4,5,6,8]): continue\n",
        "                y = audio_vectors[wav_file_name]\n",
        "\n",
        "                feature_list = [wav_file_name, label]  # wav_file, label\n",
        "                sig_mean = np.mean(abs(y))\n",
        "                feature_list.append(sig_mean)  # sig_mean\n",
        "                feature_list.append(np.std(y))  # sig_std\n",
        "\n",
        "                rmse = librosa.feature.rms(y + 0.0001)[0]\n",
        "                feature_list.append(np.mean(rmse))  # rmse_mean\n",
        "                feature_list.append(np.std(rmse))  # rmse_std\n",
        "\n",
        "                silence = 0\n",
        "                for e in rmse:\n",
        "                    if e <= 0.4 * np.mean(rmse):\n",
        "                        silence += 1\n",
        "                silence /= float(len(rmse))\n",
        "                feature_list.append(silence)  # silence\n",
        "\n",
        "                y_harmonic = librosa.effects.hpss(y)[0]\n",
        "                feature_list.append(np.mean(y_harmonic) * 1000)  # harmonic (scaled by 1000)\n",
        "\n",
        "                # based on the pitch detection algorithm mentioned here:\n",
        "                # http://access.feld.cvut.cz/view.php?cisloclanku=2009060001\n",
        "                cl = 0.45 * sig_mean\n",
        "                center_clipped = []\n",
        "                for s in y:\n",
        "                    if s >= cl:\n",
        "                        center_clipped.append(s - cl)\n",
        "                    elif s <= -cl:\n",
        "                        center_clipped.append(s + cl)\n",
        "                    elif np.abs(s) < cl:\n",
        "                        center_clipped.append(0)\n",
        "                auto_corrs = librosa.core.autocorrelate(np.array(center_clipped))\n",
        "                feature_list.append(1000 * np.max(auto_corrs)/len(auto_corrs))  # auto_corr_max (scaled by 1000)\n",
        "                feature_list.append(np.std(auto_corrs))  # auto_corr_std\n",
        "\n",
        "                df_features = df_features.append(pd.DataFrame(feature_list, index=columns).transpose(), ignore_index=True)\n",
        "            except:\n",
        "                print('Some exception occured')\n",
        "\n",
        "df_features.to_csv('data/pre-processed/audio_features.csv', index=False)"
      ],
      "metadata": {
        "colab": {
          "base_uri": "https://localhost:8080/",
          "height": 485
        },
        "id": "ZPPciB1Ajs_c",
        "outputId": "cd33597f-3359-488f-cc26-0da8c6655633"
      },
      "execution_count": null,
      "outputs": [
        {
          "output_type": "stream",
          "name": "stdout",
          "text": [
            "Signal mean = 0.01923\n",
            "Signal std dev = 0.04892\n",
            "RMSE mean = 0.02414\n",
            "RMSE std dev = 0.04252\n",
            "0.554858934169279\n"
          ]
        },
        {
          "output_type": "stream",
          "name": "stderr",
          "text": [
            "919it [20:16,  1.30s/it]"
          ]
        },
        {
          "output_type": "stream",
          "name": "stdout",
          "text": [
            "Some exception occured\n"
          ]
        },
        {
          "output_type": "stream",
          "name": "stderr",
          "text": [
            "1819it [42:21,  1.40s/it]\n",
            "1811it [40:41,  1.35s/it]\n",
            "217it [05:30,  1.89s/it]"
          ]
        },
        {
          "output_type": "stream",
          "name": "stdout",
          "text": [
            "Some exception occured\n"
          ]
        },
        {
          "output_type": "stream",
          "name": "stderr",
          "text": [
            "2136it [46:33,  1.31s/it]\n"
          ]
        },
        {
          "output_type": "display_data",
          "data": {
            "text/plain": [
              "<Figure size 1080x144 with 1 Axes>"
            ],
            "image/png": "[encoded data removed]"
          },
          "metadata": {
            "needs_background": "light"
          }
        },
        {
          "output_type": "display_data",
          "data": {
            "text/plain": [
              "<Figure size 1080x144 with 1 Axes>"
            ],
            "image/png": "[encoded data removed]"
          },
          "metadata": {
            "needs_background": "light"
          }
        }
      ]
    },
    {
      "cell_type": "code",
      "execution_count": null,
      "metadata": {
        "id": "wg4zTum2mXGR"
      },
      "outputs": [],
      "source": [
        "# !python 3_extract_audio_features.py"
      ]
    },
    {
      "cell_type": "markdown",
      "source": [
        "# Preparing Data for Training and Testing"
      ],
      "metadata": {
        "id": "TOBpdbPAkkoF"
      }
    },
    {
      "cell_type": "code",
      "source": [
        "# ## Build Speech data files\n",
        "\n",
        "\n",
        "\n",
        "import pandas as pd\n",
        "from sklearn.model_selection import train_test_split\n",
        "from sklearn.preprocessing import MinMaxScaler\n",
        "from IPython.display import display\n",
        "\n",
        "# get_ipython().run_line_magic('matplotlib', 'inline')\n",
        "\n",
        "\n",
        "\n",
        "df = pd.read_csv('{}audio_features.csv'.format(DATA_PREPROCESSED_PATH))\n",
        "df = df[df['label'].isin([0, 1, 2, 3, 4, 5, 6, 7, 8])]\n",
        "print(df.shape)\n",
        "display(df.head())\n",
        "\n",
        "# change 7 to 2\n",
        "# df['label'] = df['label'].map({0: 0, 1: 1, 2: 1, 3: 2, 4: 2, 5: 3, 6: 4, 7: 5})\n",
        "df.head()\n",
        "\n",
        "\n",
        "df.to_csv('/content/multimodal-speech-emotion-recognition/data/no_sample_df.csv')\n",
        "\n",
        "# oversampling fear\n",
        "fear_df = df[df['label']==3]\n",
        "for i in range(30):\n",
        "    df = df.append(fear_df)\n",
        "\n",
        "sur_df = df[df['label']==4]\n",
        "for i in range(10):\n",
        "    df = df.append(sur_df)\n",
        "\n",
        "df.to_csv('/content/multimodal-speech-emotion-recognition/data/modified_df.csv')\n",
        "\n",
        "\n",
        "\n",
        "emotion_dict = {'ang': 0,\n",
        "                'hap': 1,\n",
        "                'sad': 2,\n",
        "                'neu': 3,}\n",
        "\n",
        "# emotion_dict = {'ang': 0,\n",
        "#                 'hap': 1,\n",
        "#                 'exc': 2,\n",
        "#                 'sad': 3,\n",
        "#                 'fru': 4,\n",
        "#                 'fea': 5,\n",
        "#                 'sur': 6,\n",
        "#                 'neu': 7,\n",
        "#                 'xxx': 8,\n",
        "#                 'oth': 8}\n",
        "df['label'] = df['label'].map({0: 0, 1: 1, 2: 1, 3: 2, 4: 2, 5: 4, 6: 4, 7: 3, 8:4})\n",
        "df.drop(df.index[df['label']==4], inplace=True)\n",
        "scalar = MinMaxScaler()\n",
        "df[df.columns[2:]] = scalar.fit_transform(df[df.columns[2:]])\n",
        "df.head()\n",
        "\n",
        "\n",
        "x_train, x_test = train_test_split(df, test_size=0.20)\n",
        "\n",
        "x_train.to_csv('/content/multimodal-speech-emotion-recognition/data/s2e/audio_train.csv', index=False)\n",
        "x_test.to_csv('/content/multimodal-speech-emotion-recognition/data/s2e/audio_test.csv', index=False)\n",
        "\n",
        "print(x_train.shape, x_test.shape)\n",
        "\n",
        "\n",
        "# Defining preprocessing functions for text\n",
        "\n",
        "import unicodedata\n",
        "\n",
        "def unicodeToAscii(s):\n",
        "    return ''.join(\n",
        "        c for c in unicodedata.normalize('NFD', s)\n",
        "        if unicodedata.category(c) != 'Mn'\n",
        "    )\n",
        "\n",
        "# Lowercase, trim, and remove non-letter characters\n",
        "def normalizeString(s):\n",
        "    s = unicodeToAscii(s.lower().strip())\n",
        "    s = re.sub(r\"([.!?])\", r\" \\1\", s)\n",
        "    s = re.sub(r\"[^a-zA-Z.!?]+\", r\" \", s)\n",
        "    return s\n",
        "\n",
        "\n",
        "# ## Build Text data files\n",
        "\n",
        "import re\n",
        "import os\n",
        "import pickle\n",
        "\n",
        "useful_regex = re.compile(r'^(\\w+)', re.IGNORECASE)\n",
        "\n",
        "file2transcriptions = {}\n",
        "\n",
        "for sess in range(1, 6):\n",
        "    transcripts_path = '{}{}/dialog/transcriptions/'.format(IEMOCAP_PATH,sess)\n",
        "    transcript_files = os.listdir(transcripts_path)\n",
        "    for f in transcript_files:\n",
        "        with open('{}{}'.format(transcripts_path, f), 'r') as f:\n",
        "            all_lines = f.readlines()\n",
        "\n",
        "        for l in all_lines:\n",
        "            audio_code = useful_regex.match(l).group()\n",
        "            transcription = l.split(':')[-1].strip()\n",
        "            # assuming that all the keys would be unique and hence no `try`\n",
        "            file2transcriptions[audio_code] = transcription\n",
        "# save dict\n",
        "with open('/content/multimodal-speech-emotion-recognition/data/t2e/audiocode2text.pkl', 'wb') as file:\n",
        "    pickle.dump(file2transcriptions, file)\n",
        "len(file2transcriptions)\n",
        "\n",
        "\n",
        "\n",
        "audiocode2text = pickle.load(open('/content/multimodal-speech-emotion-recognition/data/t2e/audiocode2text.pkl', 'rb'))\n",
        "\n",
        "\n",
        "# Prepare text data\n",
        "text_train = pd.DataFrame()\n",
        "text_train['wav_file'] = x_train['wav_file']\n",
        "text_train['label'] = x_train['label']\n",
        "text_train['transcription'] = [normalizeString(audiocode2text[code]) for code in x_train['wav_file']]\n",
        "\n",
        "text_test = pd.DataFrame()\n",
        "text_test['wav_file'] = x_test['wav_file']\n",
        "text_test['label'] = x_test['label']\n",
        "text_test['transcription'] = [normalizeString(audiocode2text[code]) for code in x_test['wav_file']]\n",
        "\n",
        "text_train.to_csv('/content/multimodal-speech-emotion-recognition/data/t2e/text_train.csv', index=False)\n",
        "text_test.to_csv('/content/multimodal-speech-emotion-recognition/data/t2e/text_test.csv', index=False)\n",
        "\n",
        "print(text_train.shape, text_test.shape)"
      ],
      "metadata": {
        "colab": {
          "base_uri": "https://localhost:8080/",
          "height": 258
        },
        "id": "jmupu3sckub7",
        "outputId": "5e3908cb-9982-4bf5-e238-4ba664b6f359"
      },
      "execution_count": null,
      "outputs": [
        {
          "output_type": "stream",
          "name": "stdout",
          "text": [
            "(3742, 10)\n"
          ]
        },
        {
          "output_type": "display_data",
          "data": {
            "text/plain": [
              "              wav_file  label  sig_mean   sig_std  rmse_mean  rmse_std  \\\n",
              "0  Ses01M_impro06_F000      7  0.003579  0.006817   0.004510  0.005104   \n",
              "1  Ses01M_impro06_F001      7  0.002980  0.004733   0.003723  0.002918   \n",
              "2  Ses01M_impro06_F002      7  0.004494  0.007062   0.005439  0.004501   \n",
              "3  Ses01M_impro06_F003      3  0.003673  0.005732   0.004502  0.003538   \n",
              "4  Ses01M_impro06_F004      3  0.005543  0.008848   0.006684  0.005794   \n",
              "\n",
              "    silence  harmonic  auto_corr_max  auto_corr_std  \n",
              "0  0.008969 -0.009950       0.037187       0.120070  \n",
              "1  0.000000 -0.008699       0.016005       0.057092  \n",
              "2  0.075000 -0.005462       0.035227       0.171471  \n",
              "3  0.024896 -0.004687       0.023078       0.105006  \n",
              "4  0.265306 -0.008176       0.055909       0.262907  "
            ],
            "text/html": [
              "\n",
              "  <div id=\"df-c376f26c-baef-4394-a579-832ae0329132\">\n",
              "    <div class=\"colab-df-container\">\n",
              "      <div>\n",
              "<style scoped>\n",
              "    .dataframe tbody tr th:only-of-type {\n",
              "        vertical-align: middle;\n",
              "    }\n",
              "\n",
              "    .dataframe tbody tr th {\n",
              "        vertical-align: top;\n",
              "    }\n",
              "\n",
              "    .dataframe thead th {\n",
              "        text-align: right;\n",
              "    }\n",
              "</style>\n",
              "<table border=\"1\" class=\"dataframe\">\n",
              "  <thead>\n",
              "    <tr style=\"text-align: right;\">\n",
              "      <th></th>\n",
              "      <th>wav_file</th>\n",
              "      <th>label</th>\n",
              "      <th>sig_mean</th>\n",
              "      <th>sig_std</th>\n",
              "      <th>rmse_mean</th>\n",
              "      <th>rmse_std</th>\n",
              "      <th>silence</th>\n",
              "      <th>harmonic</th>\n",
              "      <th>auto_corr_max</th>\n",
              "      <th>auto_corr_std</th>\n",
              "    </tr>\n",
              "  </thead>\n",
              "  <tbody>\n",
              "    <tr>\n",
              "      <th>0</th>\n",
              "      <td>Ses01M_impro06_F000</td>\n",
              "      <td>7</td>\n",
              "      <td>0.003579</td>\n",
              "      <td>0.006817</td>\n",
              "      <td>0.004510</td>\n",
              "      <td>0.005104</td>\n",
              "      <td>0.008969</td>\n",
              "      <td>-0.009950</td>\n",
              "      <td>0.037187</td>\n",
              "      <td>0.120070</td>\n",
              "    </tr>\n",
              "    <tr>\n",
              "      <th>1</th>\n",
              "      <td>Ses01M_impro06_F001</td>\n",
              "      <td>7</td>\n",
              "      <td>0.002980</td>\n",
              "      <td>0.004733</td>\n",
              "      <td>0.003723</td>\n",
              "      <td>0.002918</td>\n",
              "      <td>0.000000</td>\n",
              "      <td>-0.008699</td>\n",
              "      <td>0.016005</td>\n",
              "      <td>0.057092</td>\n",
              "    </tr>\n",
              "    <tr>\n",
              "      <th>2</th>\n",
              "      <td>Ses01M_impro06_F002</td>\n",
              "      <td>7</td>\n",
              "      <td>0.004494</td>\n",
              "      <td>0.007062</td>\n",
              "      <td>0.005439</td>\n",
              "      <td>0.004501</td>\n",
              "      <td>0.075000</td>\n",
              "      <td>-0.005462</td>\n",
              "      <td>0.035227</td>\n",
              "      <td>0.171471</td>\n",
              "    </tr>\n",
              "    <tr>\n",
              "      <th>3</th>\n",
              "      <td>Ses01M_impro06_F003</td>\n",
              "      <td>3</td>\n",
              "      <td>0.003673</td>\n",
              "      <td>0.005732</td>\n",
              "      <td>0.004502</td>\n",
              "      <td>0.003538</td>\n",
              "      <td>0.024896</td>\n",
              "      <td>-0.004687</td>\n",
              "      <td>0.023078</td>\n",
              "      <td>0.105006</td>\n",
              "    </tr>\n",
              "    <tr>\n",
              "      <th>4</th>\n",
              "      <td>Ses01M_impro06_F004</td>\n",
              "      <td>3</td>\n",
              "      <td>0.005543</td>\n",
              "      <td>0.008848</td>\n",
              "      <td>0.006684</td>\n",
              "      <td>0.005794</td>\n",
              "      <td>0.265306</td>\n",
              "      <td>-0.008176</td>\n",
              "      <td>0.055909</td>\n",
              "      <td>0.262907</td>\n",
              "    </tr>\n",
              "  </tbody>\n",
              "</table>\n",
              "</div>\n",
              "      <button class=\"colab-df-convert\" onclick=\"convertToInteractive('df-c376f26c-baef-4394-a579-832ae0329132')\"\n",
              "              title=\"Convert this dataframe to an interactive table.\"\n",
              "              style=\"display:none;\">\n",
              "        \n",
              "  <svg xmlns=\"http://www.w3.org/2000/svg\" height=\"24px\"viewBox=\"0 0 24 24\"\n",
              "       width=\"24px\">\n",
              "    <path d=\"M0 0h24v24H0V0z\" fill=\"none\"/>\n",
              "    <path d=\"M18.56 5.44l.94 2.06.94-2.06 2.06-.94-2.06-.94-.94-2.06-.94 2.06-2.06.94zm-11 1L8.5 8.5l.94-2.06 2.06-.94-2.06-.94L8.5 2.5l-.94 2.06-2.06.94zm10 10l.94 2.06.94-2.06 2.06-.94-2.06-.94-.94-2.06-.94 2.06-2.06.94z\"/><path d=\"M17.41 7.96l-1.37-1.37c-.4-.4-.92-.59-1.43-.59-.52 0-1.04.2-1.43.59L10.3 9.45l-7.72 7.72c-.78.78-.78 2.05 0 2.83L4 21.41c.39.39.9.59 1.41.59.51 0 1.02-.2 1.41-.59l7.78-7.78 2.81-2.81c.8-.78.8-2.07 0-2.86zM5.41 20L4 18.59l7.72-7.72 1.47 1.35L5.41 20z\"/>\n",
              "  </svg>\n",
              "      </button>\n",
              "      \n",
              "  <style>\n",
              "    .colab-df-container {\n",
              "      display:flex;\n",
              "      flex-wrap:wrap;\n",
              "      gap: 12px;\n",
              "    }\n",
              "\n",
              "    .colab-df-convert {\n",
              "      background-color: #E8F0FE;\n",
              "      border: none;\n",
              "      border-radius: 50%;\n",
              "      cursor: pointer;\n",
              "      display: none;\n",
              "      fill: #1967D2;\n",
              "      height: 32px;\n",
              "      padding: 0 0 0 0;\n",
              "      width: 32px;\n",
              "    }\n",
              "\n",
              "    .colab-df-convert:hover {\n",
              "      background-color: #E2EBFA;\n",
              "      box-shadow: 0px 1px 2px rgba(60, 64, 67, 0.3), 0px 1px 3px 1px rgba(60, 64, 67, 0.15);\n",
              "      fill: #174EA6;\n",
              "    }\n",
              "\n",
              "    [theme=dark] .colab-df-convert {\n",
              "      background-color: #3B4455;\n",
              "      fill: #D2E3FC;\n",
              "    }\n",
              "\n",
              "    [theme=dark] .colab-df-convert:hover {\n",
              "      background-color: #434B5C;\n",
              "      box-shadow: 0px 1px 3px 1px rgba(0, 0, 0, 0.15);\n",
              "      filter: drop-shadow(0px 1px 2px rgba(0, 0, 0, 0.3));\n",
              "      fill: #FFFFFF;\n",
              "    }\n",
              "  </style>\n",
              "\n",
              "      <script>\n",
              "        const buttonEl =\n",
              "          document.querySelector('#df-c376f26c-baef-4394-a579-832ae0329132 button.colab-df-convert');\n",
              "        buttonEl.style.display =\n",
              "          google.colab.kernel.accessAllowed ? 'block' : 'none';\n",
              "\n",
              "        async function convertToInteractive(key) {\n",
              "          const element = document.querySelector('#df-c376f26c-baef-4394-a579-832ae0329132');\n",
              "          const dataTable =\n",
              "            await google.colab.kernel.invokeFunction('convertToInteractive',\n",
              "                                                     [key], {});\n",
              "          if (!dataTable) return;\n",
              "\n",
              "          const docLinkHtml = 'Like what you see? Visit the ' +\n",
              "            '<a target=\"_blank\" href=https://colab.research.google.com/notebooks/data_table.ipynb>data table notebook</a>'\n",
              "            + ' to learn more about interactive tables.';\n",
              "          element.innerHTML = '';\n",
              "          dataTable['output_type'] = 'display_data';\n",
              "          await google.colab.output.renderOutput(dataTable, element);\n",
              "          const docLink = document.createElement('div');\n",
              "          docLink.innerHTML = docLinkHtml;\n",
              "          element.appendChild(docLink);\n",
              "        }\n",
              "      </script>\n",
              "    </div>\n",
              "  </div>\n",
              "  "
            ]
          },
          "metadata": {}
        },
        {
          "output_type": "stream",
          "name": "stdout",
          "text": [
            "(19697, 10) (4925, 10)\n",
            "(19697, 3) (4925, 3)\n"
          ]
        }
      ]
    },
    {
      "cell_type": "code",
      "execution_count": null,
      "metadata": {
        "id": "d79rgWwiykoe"
      },
      "outputs": [],
      "source": [
        "# !python 4_prepare_data.py"
      ]
    },
    {
      "cell_type": "code",
      "source": [
        "%cd /content/multimodal-speech-emotion-recognition"
      ],
      "metadata": {
        "colab": {
          "base_uri": "https://localhost:8080/"
        },
        "id": "wrAbz96ffx2E",
        "outputId": "09bfc9f3-a467-4710-ec70-baea1de8788c"
      },
      "execution_count": null,
      "outputs": [
        {
          "output_type": "stream",
          "name": "stdout",
          "text": [
            "/content/multimodal-speech-emotion-recognition\n"
          ]
        }
      ]
    },
    {
      "cell_type": "markdown",
      "source": [
        "# Classification of Audio using ML models"
      ],
      "metadata": {
        "id": "H-AyMT63mmAr"
      }
    },
    {
      "cell_type": "code",
      "execution_count": null,
      "metadata": {
        "id": "IEeVKFn5y2_9"
      },
      "outputs": [],
      "source": [
        "# !python 5_audio_classification.py"
      ]
    },
    {
      "cell_type": "code",
      "source": [
        "\n",
        "# from IPython.display import display\n",
        "\n",
        "# get_ipython().run_line_magic('matplotlib', 'inline')\n",
        "\n",
        "\n",
        "x_train = pd.read_csv('/content/multimodal-speech-emotion-recognition/data/s2e/audio_train.csv')\n",
        "x_test = pd.read_csv('/content/multimodal-speech-emotion-recognition/data/s2e/audio_test.csv')\n",
        "\n",
        "print(x_train.shape)\n",
        "y_train = x_train['label']\n",
        "y_test = x_test['label']\n",
        "\n",
        "\n",
        "print(x_train.shape, x_test.shape)\n",
        "cl_weight = dict(pd.Series(x_train['label']).value_counts(normalize=True))\n",
        "print(dict(pd.Series(x_train['label']).value_counts()))\n",
        "\n",
        "del x_train['label']\n",
        "del x_test['label']\n",
        "del x_train['wav_file']\n",
        "del x_test['wav_file']\n",
        "\n",
        "\n",
        "\n",
        "emotion_dict = {'ang': 0,\n",
        "                'hap': 1,\n",
        "                'sad': 2,\n",
        "                'neu': 3}\n",
        "\n",
        "emo_keys = list(['ang', 'hap', 'sad', 'neu'])\n",
        "\n",
        "def plot_confusion_matrix(cm, classes,\n",
        "                          normalize=False,\n",
        "                          title='Confusion matrix',\n",
        "                          cmap=plt.cm.Blues):\n",
        "    \"\"\"\n",
        "    This function prints and plots the confusion matrix.\n",
        "    Normalization can be applied by setting `normalize=True`.\n",
        "    \"\"\"\n",
        "    # plt.figure(figsize=(8,8))\n",
        "    plt.imshow(cm, interpolation='nearest', cmap=cmap)\n",
        "    plt.title(title)\n",
        "    plt.colorbar()\n",
        "    tick_marks = np.arange(len(classes))\n",
        "    plt.xticks(tick_marks, classes, rotation=45)\n",
        "    plt.yticks(tick_marks, classes)\n",
        "\n",
        "    if normalize:\n",
        "        cm = cm.astype('float') / cm.sum(axis=1)[:, np.newaxis]\n",
        "        print(\"Normalized confusion matrix\")\n",
        "    else:\n",
        "        print('Confusion matrix, without normalization')\n",
        "\n",
        "    print(cm)\n",
        "\n",
        "    thresh = cm.max() / 2.\n",
        "    for i, j in itertools.product(range(cm.shape[0]), range(cm.shape[1])):\n",
        "        plt.text(j, i, cm[i, j],\n",
        "                 horizontalalignment=\"center\",\n",
        "                 color=\"white\" if cm[i, j] > thresh else \"black\")\n",
        "\n",
        "    plt.tight_layout()\n",
        "    plt.ylabel('True label')\n",
        "    plt.xlabel('Predicted label')\n",
        "\n",
        "def one_hot_encoder(true_labels, num_records, num_classes):\n",
        "    temp = np.array(true_labels[:num_records])\n",
        "    true_labels = np.zeros((num_records, num_classes))\n",
        "    true_labels[np.arange(num_records), temp] = 1\n",
        "    return true_labels\n",
        "\n",
        "def display_results(y_test, pred_probs, cm=True):\n",
        "    pred = np.argmax(pred_probs, axis=-1)\n",
        "    one_hot_true = one_hot_encoder(y_test, len(pred), len(emotion_dict))\n",
        "    print('Test Set Accuracy =  {0:.3f}'.format(accuracy_score(y_test, pred)))\n",
        "    print('Test Set F-score =  {0:.3f}'.format(f1_score(y_test, pred, average='macro')))\n",
        "    print('Test Set Precision =  {0:.3f}'.format(precision_score(y_test, pred, average='macro')))\n",
        "    print('Test Set Recall =  {0:.3f}'.format(recall_score(y_test, pred, average='macro')))\n",
        "    if cm:\n",
        "        plot_confusion_matrix(confusion_matrix(y_test, pred), classes=emo_keys)\n",
        "\n",
        "\n",
        "\n",
        "rf_classifier = RandomForestClassifier(n_estimators=1200, min_samples_split=25)\n",
        "rf_classifier.fit(x_train, y_train)\n",
        "\n",
        "# Predict\n",
        "pred_probs = rf_classifier.predict_proba(x_test)\n",
        "print(\"LENGTH \",pred_probs.shape)\n",
        "# Results\n",
        "print(\"*\"*10,\"\\nRANDOM FOREST\\n\",\"*\"*10)\n",
        "display_results(y_test, pred_probs)\n",
        "\n",
        "with open('pred_probas/rf_classifier.model', 'wb') as f:\n",
        "    pickle.dump(rf_classifier, f)\n",
        "\n",
        "\n",
        "\n",
        "xgb_classifier = xgb.XGBClassifier(max_depth=7, learning_rate=0.008, objective='multi:softprob',\n",
        "                                   n_estimators=1200, sub_sample=0.8, num_class=len(emo_keys),\n",
        "                                   booster='gbtree', n_jobs=4)\n",
        "xgb_classifier.fit(x_train, y_train)\n",
        "\n",
        "# Predict\n",
        "pred_probs = xgb_classifier.predict_proba(x_test)\n",
        "\n",
        "# Results\n",
        "print(\"*\"*10,\"\\nXGBoost\\n\",\"*\"*10)\n",
        "display_results(y_test, pred_probs)\n",
        "\n",
        "with open('pred_probas/xgb_classifier.model', 'wb') as f:\n",
        "    pickle.dump(xgb_classifier, f)\n",
        "\n",
        "\n",
        "\n",
        "mlp_classifier = MLPClassifier(hidden_layer_sizes=(650, ), activation='relu', solver='adam', alpha=0.0001,\n",
        "                               batch_size='auto', learning_rate='adaptive', learning_rate_init=0.01,\n",
        "                               power_t=0.5, max_iter=1000, shuffle=True, random_state=None, tol=0.0001,\n",
        "                               verbose=False, warm_start=True, momentum=0.8, nesterovs_momentum=True,\n",
        "                               early_stopping=False, validation_fraction=0.1, beta_1=0.9, beta_2=0.999,\n",
        "                               epsilon=1e-08)\n",
        "\n",
        "mlp_classifier.fit(x_train, y_train)\n",
        "\n",
        "# Predict\n",
        "pred_probs = mlp_classifier.predict_proba(x_test)\n",
        "\n",
        "# Results\n",
        "print(\"*\"*10,\"\\nMLP\\n\",\"*\"*10)\n",
        "display_results(y_test, pred_probs)\n",
        "\n",
        "with open('pred_probas/mlp_classifier.model', 'wb') as f:\n",
        "    pickle.dump(mlp_classifier, f)\n",
        "\n",
        "\n",
        "\n",
        "svc_classifier = LinearSVC()\n",
        "\n",
        "svc_classifier.fit(x_train, y_train)\n",
        "\n",
        "# Predict\n",
        "pred = svc_classifier.predict(x_test)\n",
        "\n",
        "# Results\n",
        "print(\"*\"*10,\"SVM Classifier\\n\",\"*\"*10)\n",
        "display_results(y_test, pred_probs)\n",
        "\n",
        "with open('pred_probas/svc_classifier_model.model', 'wb') as f:\n",
        "    pickle.dump(svc_classifier, f)\n",
        "\n",
        "\n",
        "\n",
        "mnb_classifier = MultinomialNB()\n",
        "\n",
        "mnb_classifier.fit(x_train, y_train)\n",
        "\n",
        "# Predict\n",
        "pred_probs = mnb_classifier.predict_proba(x_test)\n",
        "\n",
        "# Results\n",
        "print(\"*\"*10,\"\\nMulti Naive Bayes\\n\",\"*\"*10)\n",
        "display_results(y_test, pred_probs)\n",
        "\n",
        "with open('pred_probas/mnb_classifier.model', 'wb') as f:\n",
        "    pickle.dump(mnb_classifier, f)\n",
        "\n",
        "\n",
        "lr_classifier = LogisticRegression(solver='lbfgs', multi_class='multinomial', max_iter=1000)\n",
        "\n",
        "lr_classifier.fit(x_train, y_train)\n",
        "\n",
        "# Predict\n",
        "pred_probs = lr_classifier.predict_proba(x_test)\n",
        "\n",
        "# Results\n",
        "print(\"*\"*10,\"\\nLogistic Regression\\n\",\"*\"*10)\n",
        "display_results(y_test, pred_probs)\n",
        "\n",
        "with open('pred_probas/lr_classifier.model', 'wb') as f:\n",
        "    pickle.dump(lr_classifier, f)\n",
        "\n",
        "\n",
        "\n",
        "ax = xgb.plot_importance(xgb_classifier, max_num_features=10, height=0.5, show_values=False)\n",
        "fig = ax.figure\n",
        "fig.set_size_inches(8, 8)\n",
        "\n",
        "\n",
        "\n",
        "contribution_scores = xgb_classifier.feature_importances_\n",
        "contribution_scores\n",
        "\n",
        "\n",
        "\n",
        "\n",
        "top_n = [3, 5, 6, 7, 8]  # number of features\n",
        "for n in top_n:\n",
        "    threshold = np.argsort(contribution_scores)[::-1][:n][-1]\n",
        "    print('Stats for top {} features:'.format(n))\n",
        "    # Select features using threshold\n",
        "    selection = SelectFromModel(xgb_classifier, threshold=contribution_scores[threshold], prefit=True)\n",
        "    select_x_train = selection.transform(x_train)\n",
        "    select_x_test = selection.transform(x_test)\n",
        "\n",
        "    # Train\n",
        "    select_xgb_classifier = xgb.XGBClassifier(max_depth=7, learning_rate=0.008, objective='multi:softprob',\n",
        "                                              n_estimators=1200, sub_sample = 0.8, num_class = len(emotion_dict),\n",
        "                                              booster='gbtree', n_jobs=4)\n",
        "    select_xgb_classifier.fit(select_x_train, y_train)\n",
        "\n",
        "    # Predict\n",
        "    pred_probs = select_xgb_classifier.predict_proba(select_x_test)\n",
        "\n",
        "    # Results\n",
        "    print(\"*\"*10,\"\\nFor top {} features XGB Classifier\\n\".format(n),\"*\"*10)\n",
        "\n",
        "    display_results(y_test, pred_probs, cm = False)\n",
        "\n",
        "\n",
        "# Load predicted probabilities\n",
        "# with open('/content/multimodal-speech-emotion-recognition/pred_probas/rf_classifier.pkl', 'rb') as f:\n",
        "#     rf_pred_probs = pickle.load(f)\n",
        "\n",
        "# with open('/content/multimodal-speech-emotion-recognition/pred_probas/xgb_classifier.pkl', 'rb') as f:\n",
        "#     xgb_pred_probs = pickle.load(f)\n",
        "\n",
        "# with open('/content/multimodal-speech-emotion-recognition/pred_probas/svc_classifier_model.pkl', 'rb') as f:\n",
        "#     svc_preds = pickle.load(f)\n",
        "\n",
        "# with open('/content/multimodal-speech-emotion-recognition/pred_probas/mnb_classifier.pkl', 'rb') as f:\n",
        "#     mnb_pred_probs = pickle.load(f)\n",
        "\n",
        "# with open('/content/multimodal-speech-emotion-recognition/pred_probas/mlp_classifier.pkl', 'rb') as f:\n",
        "#     mlp_pred_probs = pickle.load(f)\n",
        "\n",
        "# with open('/content/multimodal-speech-emotion-recognition/pred_probas/lr_classifier.pkl', 'rb') as f:\n",
        "#     lr_pred_probs = pickle.load(f)\n",
        "\n",
        "# with open('/content/multimodal-speech-emotion-recognition/pred_probas/lstm_classifier.pkl', 'rb') as f:\n",
        "#     lstm_pred_probs = pickle.load(f)\n",
        "\n",
        "# # Average of the predicted probabilites\n",
        "# ensemble_pred_probs = (xgb_pred_probs +\n",
        "#                        mlp_pred_probs +\n",
        "#                        rf_pred_probs)/3.0\n",
        "# # Show metrics\n",
        "# print(\"*\"*10,\"\\nEnsemble : (XGB + MLP + RF + MNB + LR) Average\\n\",\"*\"*10)\n",
        "\n",
        "# display_results(y_test, ensemble_pred_probs)\n",
        "\n"
      ],
      "metadata": {
        "colab": {
          "base_uri": "https://localhost:8080/",
          "height": 1000
        },
        "id": "VwsW9xVmmkew",
        "outputId": "fb624747-532e-415d-dadb-5b9b8102f795"
      },
      "execution_count": null,
      "outputs": [
        {
          "output_type": "stream",
          "name": "stdout",
          "text": [
            "(19697, 10)\n",
            "(19697, 10) (4925, 10)\n",
            "{2: 17238, 0: 1298, 3: 851, 1: 310}\n",
            "LENGTH  (4925, 4)\n",
            "********** \n",
            "RANDOM FOREST\n",
            " **********\n",
            "Test Set Accuracy =  0.934\n",
            "Test Set F-score =  0.484\n",
            "Test Set Precision =  0.533\n",
            "Test Set Recall =  0.485\n",
            "Confusion matrix, without normalization\n",
            "[[ 215    0   57   23]\n",
            " [  48    0   21    8]\n",
            " [   0    0 4338    0]\n",
            " [ 113    0   57   45]]\n"
          ]
        },
        {
          "output_type": "stream",
          "name": "stderr",
          "text": [
            "/usr/local/lib/python3.7/dist-packages/sklearn/metrics/classification.py:1143: UndefinedMetricWarning: F-score is ill-defined and being set to 0.0 in labels with no predicted samples.\n",
            "  'precision', 'predicted', average, warn_for)\n",
            "/usr/local/lib/python3.7/dist-packages/sklearn/metrics/classification.py:1143: UndefinedMetricWarning: Precision is ill-defined and being set to 0.0 in labels with no predicted samples.\n",
            "  'precision', 'predicted', average, warn_for)\n"
          ]
        },
        {
          "output_type": "stream",
          "name": "stdout",
          "text": [
            "********** \n",
            "XGBoost\n",
            " **********\n",
            "Test Set Accuracy =  0.926\n",
            "Test Set F-score =  0.466\n",
            "Test Set Precision =  0.514\n",
            "Test Set Recall =  0.452\n",
            "Confusion matrix, without normalization\n",
            "[[ 178    4   81   32]\n",
            " [  39    0   29    9]\n",
            " [   0    0 4338    0]\n",
            " [  89    1   81   44]]\n",
            "********** \n",
            "MLP\n",
            " **********\n",
            "Test Set Accuracy =  0.909\n",
            "Test Set F-score =  0.388\n",
            "Test Set Precision =  0.463\n",
            "Test Set Recall =  0.374\n",
            "Confusion matrix, without normalization\n",
            "[[ 142    0  150    3]\n",
            " [  25    0   49    3]\n",
            " [   4    0 4329    5]\n",
            " [  43    0  168    4]]\n"
          ]
        },
        {
          "output_type": "stream",
          "name": "stderr",
          "text": [
            "/usr/local/lib/python3.7/dist-packages/sklearn/metrics/classification.py:1143: UndefinedMetricWarning: F-score is ill-defined and being set to 0.0 in labels with no predicted samples.\n",
            "  'precision', 'predicted', average, warn_for)\n",
            "/usr/local/lib/python3.7/dist-packages/sklearn/metrics/classification.py:1143: UndefinedMetricWarning: Precision is ill-defined and being set to 0.0 in labels with no predicted samples.\n",
            "  'precision', 'predicted', average, warn_for)\n"
          ]
        },
        {
          "output_type": "stream",
          "name": "stdout",
          "text": [
            "********** SVM Classifier\n",
            " **********\n",
            "Test Set Accuracy =  0.909\n",
            "Test Set F-score =  0.388\n",
            "Test Set Precision =  0.463\n",
            "Test Set Recall =  0.374\n",
            "Confusion matrix, without normalization\n",
            "[[ 142    0  150    3]\n",
            " [  25    0   49    3]\n",
            " [   4    0 4329    5]\n",
            " [  43    0  168    4]]\n"
          ]
        },
        {
          "output_type": "stream",
          "name": "stderr",
          "text": [
            "/usr/local/lib/python3.7/dist-packages/sklearn/metrics/classification.py:1143: UndefinedMetricWarning: F-score is ill-defined and being set to 0.0 in labels with no predicted samples.\n",
            "  'precision', 'predicted', average, warn_for)\n",
            "/usr/local/lib/python3.7/dist-packages/sklearn/metrics/classification.py:1143: UndefinedMetricWarning: Precision is ill-defined and being set to 0.0 in labels with no predicted samples.\n",
            "  'precision', 'predicted', average, warn_for)\n"
          ]
        },
        {
          "output_type": "stream",
          "name": "stdout",
          "text": [
            "********** \n",
            "Multi Naive Bayes\n",
            " **********\n",
            "Test Set Accuracy =  0.882\n",
            "Test Set F-score =  0.241\n",
            "Test Set Precision =  0.470\n",
            "Test Set Recall =  0.253\n",
            "Confusion matrix, without normalization\n",
            "[[   4    0  291    0]\n",
            " [   0    0   77    0]\n",
            " [   0    0 4338    0]\n",
            " [   0    0  215    0]]\n"
          ]
        },
        {
          "output_type": "stream",
          "name": "stderr",
          "text": [
            "/usr/local/lib/python3.7/dist-packages/sklearn/metrics/classification.py:1143: UndefinedMetricWarning: F-score is ill-defined and being set to 0.0 in labels with no predicted samples.\n",
            "  'precision', 'predicted', average, warn_for)\n",
            "/usr/local/lib/python3.7/dist-packages/sklearn/metrics/classification.py:1143: UndefinedMetricWarning: Precision is ill-defined and being set to 0.0 in labels with no predicted samples.\n",
            "  'precision', 'predicted', average, warn_for)\n"
          ]
        },
        {
          "output_type": "stream",
          "name": "stdout",
          "text": [
            "********** \n",
            "Logistic Regression\n",
            " **********\n",
            "Test Set Accuracy =  0.889\n",
            "Test Set F-score =  0.319\n",
            "Test Set Precision =  0.362\n",
            "Test Set Recall =  0.308\n",
            "Confusion matrix, without normalization\n",
            "[[  70    0  225    0]\n",
            " [  14    0   63    0]\n",
            " [  29    0 4309    0]\n",
            " [  14    0  201    0]]\n"
          ]
        },
        {
          "output_type": "stream",
          "name": "stderr",
          "text": [
            "/usr/local/lib/python3.7/dist-packages/sklearn/metrics/classification.py:1143: UndefinedMetricWarning: F-score is ill-defined and being set to 0.0 in labels with no predicted samples.\n",
            "  'precision', 'predicted', average, warn_for)\n",
            "/usr/local/lib/python3.7/dist-packages/sklearn/metrics/classification.py:1143: UndefinedMetricWarning: Precision is ill-defined and being set to 0.0 in labels with no predicted samples.\n",
            "  'precision', 'predicted', average, warn_for)\n"
          ]
        },
        {
          "output_type": "stream",
          "name": "stdout",
          "text": [
            "Stats for top 3 features:\n",
            "********** \n",
            "For top 3 features XGB Classifier\n",
            " **********\n",
            "Test Set Accuracy =  0.919\n",
            "Test Set F-score =  0.423\n",
            "Test Set Precision =  0.519\n",
            "Test Set Recall =  0.412\n",
            "Stats for top 5 features:\n",
            "********** \n",
            "For top 5 features XGB Classifier\n",
            " **********\n",
            "Test Set Accuracy =  0.921\n",
            "Test Set F-score =  0.442\n",
            "Test Set Precision =  0.520\n",
            "Test Set Recall =  0.425\n",
            "Stats for top 6 features:\n",
            "********** \n",
            "For top 6 features XGB Classifier\n",
            " **********\n",
            "Test Set Accuracy =  0.920\n",
            "Test Set F-score =  0.441\n",
            "Test Set Precision =  0.519\n",
            "Test Set Recall =  0.424\n",
            "Stats for top 7 features:\n",
            "********** \n",
            "For top 7 features XGB Classifier\n",
            " **********\n",
            "Test Set Accuracy =  0.927\n",
            "Test Set F-score =  0.471\n",
            "Test Set Precision =  0.539\n",
            "Test Set Recall =  0.455\n",
            "Stats for top 8 features:\n",
            "********** \n",
            "For top 8 features XGB Classifier\n",
            " **********\n",
            "Test Set Accuracy =  0.926\n",
            "Test Set F-score =  0.466\n",
            "Test Set Precision =  0.514\n",
            "Test Set Recall =  0.452\n"
          ]
        },
        {
          "output_type": "display_data",
          "data": {
            "text/plain": [
              "<Figure size 432x288 with 7 Axes>"
            ],
            "image/png": "[encoded data removed]"
          },
          "metadata": {
            "needs_background": "light"
          }
        },
        {
          "output_type": "display_data",
          "data": {
            "text/plain": [
              "<Figure size 576x576 with 1 Axes>"
            ],
            "image/png": "[encoded data removed]"
          },
          "metadata": {
            "needs_background": "light"
          }
        }
      ]
    }
  ],
  "metadata": {
    "colab": {
      "provenance": []
    },
    "kernelspec": {
      "display_name": "Python 3",
      "name": "python3"
    },
    "language_info": {
      "name": "python"
    }
  },
  "nbformat": 4,
  "nbformat_minor": 0
}